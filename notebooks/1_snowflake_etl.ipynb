{
 "cells": [
  {
   "cell_type": "code",
   "execution_count": 1,
   "id": "21308349",
   "metadata": {
    "vscode": {
     "languageId": "plaintext"
    }
   },
   "outputs": [],
   "source": [
    "from pyspark.sql import SparkSession\n",
    "from pyspark.sql.functions import col, lit, to_date, row_number, monotonically_increasing_id, expr, min, max \n",
    "from pyspark.sql.window import Window\n",
    "from pyspark.sql.types import DateType\n",
    "\n",
    "import pandas as pd\n",
    "from datetime import datetime, timedelta\n",
    "\n",
    "# Инициализация SparkSession\n",
    "spark = SparkSession.builder \\\n",
    "    .appName(\"PostgreSQL Snowflake ETL\") \\\n",
    "    .config(\"spark.jars\", \"/home/jovyan/jars/postgresql-42.6.0.jar\") \\\n",
    "    .getOrCreate()\n",
    "\n",
    "# Параметры подключения к PostgreSQL\n",
    "pg_url = \"jdbc:postgresql://db:5432/mydatabase\"\n",
    "pg_properties = {\n",
    "    \"user\": \"user_bd\",\n",
    "    \"password\": \"password_bd\",\n",
    "    \"driver\": \"org.postgresql.Driver\"\n",
    "}\n"
   ]
  },
  {
   "cell_type": "code",
   "execution_count": 2,
   "id": "3b1c304f",
   "metadata": {
    "vscode": {
     "languageId": "plaintext"
    }
   },
   "outputs": [
    {
     "name": "stdout",
     "output_type": "stream",
     "text": [
      "Количество строк в public.mock_data: 10000\n",
      "root\n",
      " |-- id: integer (nullable = true)\n",
      " |-- customer_first_name: string (nullable = true)\n",
      " |-- customer_last_name: string (nullable = true)\n",
      " |-- customer_age: integer (nullable = true)\n",
      " |-- customer_email: string (nullable = true)\n",
      " |-- customer_country: string (nullable = true)\n",
      " |-- customer_postal_code: string (nullable = true)\n",
      " |-- customer_pet_type: string (nullable = true)\n",
      " |-- customer_pet_name: string (nullable = true)\n",
      " |-- customer_pet_breed: string (nullable = true)\n",
      " |-- seller_first_name: string (nullable = true)\n",
      " |-- seller_last_name: string (nullable = true)\n",
      " |-- seller_email: string (nullable = true)\n",
      " |-- seller_country: string (nullable = true)\n",
      " |-- seller_postal_code: string (nullable = true)\n",
      " |-- product_name: string (nullable = true)\n",
      " |-- product_category: string (nullable = true)\n",
      " |-- product_price: float (nullable = true)\n",
      " |-- product_quantity: integer (nullable = true)\n",
      " |-- sale_date: string (nullable = true)\n",
      " |-- sale_customer_id: integer (nullable = true)\n",
      " |-- sale_seller_id: integer (nullable = true)\n",
      " |-- sale_product_id: integer (nullable = true)\n",
      " |-- sale_quantity: integer (nullable = true)\n",
      " |-- sale_total_price: float (nullable = true)\n",
      " |-- store_name: string (nullable = true)\n",
      " |-- store_location: string (nullable = true)\n",
      " |-- store_city: string (nullable = true)\n",
      " |-- store_state: string (nullable = true)\n",
      " |-- store_country: string (nullable = true)\n",
      " |-- store_phone: string (nullable = true)\n",
      " |-- store_email: string (nullable = true)\n",
      " |-- pet_category: string (nullable = true)\n",
      " |-- product_weight: float (nullable = true)\n",
      " |-- product_color: string (nullable = true)\n",
      " |-- product_size: string (nullable = true)\n",
      " |-- product_brand: string (nullable = true)\n",
      " |-- product_material: string (nullable = true)\n",
      " |-- product_description: string (nullable = true)\n",
      " |-- product_rating: float (nullable = true)\n",
      " |-- product_reviews: integer (nullable = true)\n",
      " |-- product_release_date: string (nullable = true)\n",
      " |-- product_expiry_date: string (nullable = true)\n",
      " |-- supplier_name: string (nullable = true)\n",
      " |-- supplier_contact: string (nullable = true)\n",
      " |-- supplier_email: string (nullable = true)\n",
      " |-- supplier_phone: string (nullable = true)\n",
      " |-- supplier_address: string (nullable = true)\n",
      " |-- supplier_city: string (nullable = true)\n",
      " |-- supplier_country: string (nullable = true)\n",
      "\n",
      "+---+-------------------+------------------+------------+--------------------+----------------+--------------------+-----------------+-----------------+------------------+-----------------+----------------+--------------------+--------------------+------------------+------------+----------------+-------------+----------------+----------+----------------+--------------+---------------+-------------+----------------+------------+--------------+---------------+-----------+-------------+------------+--------------------+------------+--------------+-------------+------------+-------------+----------------+--------------------+--------------+---------------+--------------------+-------------------+-------------+----------------+--------------------+--------------+----------------+-------------------+----------------+\n",
      "| id|customer_first_name|customer_last_name|customer_age|      customer_email|customer_country|customer_postal_code|customer_pet_type|customer_pet_name|customer_pet_breed|seller_first_name|seller_last_name|        seller_email|      seller_country|seller_postal_code|product_name|product_category|product_price|product_quantity| sale_date|sale_customer_id|sale_seller_id|sale_product_id|sale_quantity|sale_total_price|  store_name|store_location|     store_city|store_state|store_country| store_phone|         store_email|pet_category|product_weight|product_color|product_size|product_brand|product_material| product_description|product_rating|product_reviews|product_release_date|product_expiry_date|supplier_name|supplier_contact|      supplier_email|supplier_phone|supplier_address|      supplier_city|supplier_country|\n",
      "+---+-------------------+------------------+------------+--------------------+----------------+--------------------+-----------------+-----------------+------------------+-----------------+----------------+--------------------+--------------------+------------------+------------+----------------+-------------+----------------+----------+----------------+--------------+---------------+-------------+----------------+------------+--------------+---------------+-----------+-------------+------------+--------------------+------------+--------------+-------------+------------+-------------+----------------+--------------------+--------------+---------------+--------------------+-------------------+-------------+----------------+--------------------+--------------+----------------+-------------------+----------------+\n",
      "|  1|              Conni|            Leydon|          63|  lswait0@amazon.com|          France|         77404 CEDEX|              cat|              Jan|Labrador Retriever|            Lenee|           Swait|       lswait0@51.la|Central African R...|              NULL|   Bird Cage|            Food|        18.57|              87| 2/27/2021|               1|             1|              1|            3|           83.32|Thoughtworks|      Suite 91|Lagny-sur-Marne|         A8|       Poland|988-582-6510| lswait0@behance.net|        Fish|          49.9|          Red|       Large|      Feedmix|           Stone|Maecenas tristiqu...|           3.6|            360|           9/29/2022|          2/28/2026|  Thoughtbeat|     Lenee Swait|  lswait0@oracle.com|  852-750-6042|       Room 1411|          Batangafo|          Russia|\n",
      "|  2|               Alec|      Chamberlayne|          26|   cwalsh1@state.gov|     Philippines|                9401|              dog|           Shelia|Labrador Retriever|            Colet|           Walsh|cwalsh1@simplemac...|            Malaysia|             87028|    Dog Food|            Cage|        67.72|              88| 2/27/2021|               2|             2|              2|            4|           384.2|       Yabox|      Apt 1452|        Batasan|       NULL|        China|359-693-3833|   cwalsh1@umich.edu|        Fish|          44.5|         Pink|      Medium|      Pixoboo|           Vinyl|Curabitur gravida...|           2.1|            754|           5/31/2016|          9/11/2029|         Eayo|     Colet Walsh| cwalsh1@addthis.com|  651-123-9474|         Suite 4|             Labuan|          Sweden|\n",
      "|  3|            Vaughan|           Shapiro|          47|  jelnough2@xing.com|      Madagascar|                NULL|              cat|           Gunner|           Siamese|             Jane|         Elnough|jelnough2@storify...|           Argentina|              8201|    Dog Food|            Food|         4.49|              77|11/30/2021|               3|             3|              3|            6|           11.58|     Tagtune|      Suite 17|Ampasimanolotra|       NULL|    Indonesia|208-198-3755|jelnough2@miitbei...|        Dogs|          42.6|         Mauv|      Medium|       Voonte|           Brass|Duis bibendum. Mo...|           1.5|            313|          12/14/2012|           1/5/2024|      Gabspot|    Jane Elnough|jelnough2@ezinear...|  325-676-3913|       Room 1133|Veinticinco de Mayo|        Portugal|\n",
      "|  4|               Bank|             Audas|          81|lscay3@howstuffwo...|        Portugal|            2860-010|             bird|            Nahum|Labrador Retriever|          Lorilyn|            Scay|    lscay3@nymag.com|              Russia|            462159|     Cat Toy|            Cage|        28.41|              91|10/24/2021|               4|             4|              4|            2|          273.35|     Flipbug|       Apt 347|   Alhos Vedros|         15|        China|469-572-0500|lscay3@bizjournal...|    Reptiles|           5.5|       Indigo|       Small|       Leenti|      Plexiglass|Aliquam quis turp...|           3.6|            938|           11/6/2010|           6/3/2025|  Jabberstorm|    Lorilyn Scay|lscay3@opensource...|  112-474-3398|       Room 1500|          Saraktash|           China|\n",
      "|  5|              Anthe|            Pletts|          72|ctoll4@miibeian.g...|          Russia|              628389|              cat|             Brod|Labrador Retriever|            Court|            Toll|    ctoll4@ifeng.com|            Bulgaria|              2281|   Bird Cage|            Cage|        88.39|              35| 6/27/2021|               5|             5|              5|            2|          305.87|   Browsebug|  PO Box 64963|       Pyt-Yakh|       NULL|       Sweden|508-703-9322|ctoll4@simplemach...|        Dogs|          36.4|       Indigo|      Medium|     Feedfire|         Plastic|Maecenas leo odio...|           2.4|            943|           11/2/2018|          7/10/2030|       Trudeo|      Court Toll|     ctoll4@usgs.gov|  647-688-5659|        Apt 1574|           Lakatnik|           China|\n",
      "+---+-------------------+------------------+------------+--------------------+----------------+--------------------+-----------------+-----------------+------------------+-----------------+----------------+--------------------+--------------------+------------------+------------+----------------+-------------+----------------+----------+----------------+--------------+---------------+-------------+----------------+------------+--------------+---------------+-----------+-------------+------------+--------------------+------------+--------------+-------------+------------+-------------+----------------+--------------------+--------------+---------------+--------------------+-------------------+-------------+----------------+--------------------+--------------+----------------+-------------------+----------------+\n",
      "only showing top 5 rows\n",
      "\n",
      "Загрузка в DimCustomers...\n",
      "DimCustomers загружены.\n"
     ]
    }
   ],
   "source": [
    "# 1. Чтение данных из public.mock_data\n",
    "df_mock_data = spark.read \\\n",
    "    .jdbc(url=pg_url, table=\"public.mock_data\", properties=pg_properties)\n",
    "print(f\"Количество строк в public.mock_data: {df_mock_data.count()}\") \n",
    "df_mock_data.printSchema()\n",
    "df_mock_data.show(5)\n",
    "\n",
    "df_mock_data = df_mock_data.withColumn(\"sale_date\", to_date(col(\"sale_date\"), \"M/d/yyyy\")) \\\n",
    "                           .withColumn(\"product_release_date\", to_date(col(\"product_release_date\"), \"M/d/yyyy\")) \\\n",
    "                           .withColumn(\"product_expiry_date\", to_date(col(\"product_expiry_date\"), \"M/d/yyyy\"))\n",
    "\n",
    "\n",
    "# 2. Трансформация и загрузка в DimCustomers\n",
    "print(\"Загрузка в DimCustomers...\")\n",
    "dim_customers = df_mock_data.select(\n",
    "    col(\"customer_first_name\"),\n",
    "    col(\"customer_last_name\"),\n",
    "    col(\"customer_age\"),\n",
    "    col(\"customer_email\"),\n",
    "    col(\"customer_country\"),\n",
    "    col(\"customer_postal_code\"),\n",
    "    col(\"customer_pet_type\"),\n",
    "    col(\"customer_pet_name\"),\n",
    "    col(\"customer_pet_breed\")\n",
    ").dropDuplicates([\"customer_email\"]) \n",
    "\n",
    "# Загрузка в DimCustomers\n",
    "dim_customers.write \\\n",
    "    .jdbc(url=pg_url, table=\"DimCustomers\", mode=\"append\", properties=pg_properties)\n",
    "\n",
    "print(\"DimCustomers загружены.\")"
   ]
  },
  {
   "cell_type": "code",
   "execution_count": 3,
   "id": "70207d4f",
   "metadata": {
    "vscode": {
     "languageId": "plaintext"
    }
   },
   "outputs": [
    {
     "name": "stdout",
     "output_type": "stream",
     "text": [
      "Загрузка в DimSellers...\n",
      "DimSellers загружены.\n"
     ]
    }
   ],
   "source": [
    "# 3. Трансформация и загрузка в DimSellers\n",
    "print(\"Загрузка в DimSellers...\")\n",
    "dim_sellers = df_mock_data.select(\n",
    "    col(\"seller_first_name\"),\n",
    "    col(\"seller_last_name\"),\n",
    "    col(\"seller_email\"),\n",
    "    col(\"seller_country\"),\n",
    "    col(\"seller_postal_code\")\n",
    ").dropDuplicates([\"seller_email\"]) \n",
    "\n",
    "# Загрузка в DimSellers\n",
    "dim_sellers.write \\\n",
    "    .jdbc(url=pg_url, table=\"DimSellers\", mode=\"append\", properties=pg_properties)\n",
    "\n",
    "print(\"DimSellers загружены.\")"
   ]
  },
  {
   "cell_type": "code",
   "execution_count": 4,
   "id": "14ecb3ed",
   "metadata": {
    "vscode": {
     "languageId": "plaintext"
    }
   },
   "outputs": [
    {
     "name": "stdout",
     "output_type": "stream",
     "text": [
      "Загрузка в DimProducts...\n"
     ]
    }
   ],
   "source": [
    "print(\"Загрузка в DimProducts...\")\n",
    "dim_products = df_mock_data.select(\n",
    "    col(\"product_name\"),\n",
    "    col(\"product_category\"),\n",
    "    col(\"product_price\"),\n",
    "    col(\"product_weight\"),\n",
    "    col(\"product_color\"),\n",
    "    col(\"product_size\"),\n",
    "    col(\"product_brand\"),\n",
    "    col(\"product_material\"),\n",
    "    col(\"product_description\"),\n",
    "    col(\"product_rating\"),\n",
    "    col(\"product_reviews\"),\n",
    "    to_date(col(\"product_release_date\"), \"yyyy-MM-dd\").alias(\"product_release_date\"), \n",
    "    to_date(col(\"product_expiry_date\"), \"yyyy-MM-dd\").alias(\"product_expiry_date\"),   \n",
    "    col(\"pet_category\")\n",
    ").dropDuplicates([\"product_name\"]) \n",
    "\n",
    "# Загрузка в DimProducts\n",
    "dim_products.write \\\n",
    "    .jdbc(url=pg_url, table=\"DimProducts\", mode=\"append\", properties=pg_properties)\n"
   ]
  },
  {
   "cell_type": "code",
   "execution_count": 5,
   "id": "dd5c79b4",
   "metadata": {
    "vscode": {
     "languageId": "plaintext"
    }
   },
   "outputs": [
    {
     "name": "stdout",
     "output_type": "stream",
     "text": [
      "Загрузка в DimStores...\n",
      "DimStores загружены.\n"
     ]
    }
   ],
   "source": [
    "# 5. Трансформация и загрузка в DimStores\n",
    "print(\"Загрузка в DimStores...\")\n",
    "dim_stores = df_mock_data.select(\n",
    "    col(\"store_name\"),\n",
    "    col(\"store_location\"),\n",
    "    col(\"store_city\"),\n",
    "    col(\"store_state\"),\n",
    "    col(\"store_country\"),\n",
    "    col(\"store_phone\"),\n",
    "    col(\"store_email\")\n",
    ").dropDuplicates([\"store_name\"]) \n",
    "\n",
    "# Загрузка в DimStores\n",
    "dim_stores.write \\\n",
    "    .jdbc(url=pg_url, table=\"DimStores\", mode=\"append\", properties=pg_properties)\n",
    "\n",
    "print(\"DimStores загружены.\")"
   ]
  },
  {
   "cell_type": "code",
   "execution_count": 6,
   "id": "80221129",
   "metadata": {
    "vscode": {
     "languageId": "plaintext"
    }
   },
   "outputs": [
    {
     "name": "stdout",
     "output_type": "stream",
     "text": [
      "Загрузка в DimSuppliers...\n",
      "DimSuppliers загружены.\n"
     ]
    }
   ],
   "source": [
    "# 6. Трансформация и загрузка в DimSuppliers\n",
    "print(\"Загрузка в DimSuppliers...\")\n",
    "dim_suppliers = df_mock_data.select(\n",
    "    col(\"supplier_name\"),\n",
    "    col(\"supplier_contact\"),\n",
    "    col(\"supplier_email\"),\n",
    "    col(\"supplier_phone\"),\n",
    "    col(\"supplier_address\"),\n",
    "    col(\"supplier_city\"),\n",
    "    col(\"supplier_country\")\n",
    ").dropDuplicates([\"supplier_name\"])\n",
    "\n",
    "# Загрузка в DimSuppliers\n",
    "dim_suppliers.write \\\n",
    "    .jdbc(url=pg_url, table=\"DimSuppliers\", mode=\"append\", properties=pg_properties)\n",
    "\n",
    "print(\"DimSuppliers загружены.\")"
   ]
  },
  {
   "cell_type": "code",
   "execution_count": 7,
   "id": "162be029",
   "metadata": {
    "vscode": {
     "languageId": "plaintext"
    }
   },
   "outputs": [
    {
     "name": "stdout",
     "output_type": "stream",
     "text": [
      "Загрузка в DimDate...\n",
      "Минимальная дата (объект): 2021-01-01\n",
      "Максимальная дата (объект): 2021-12-30\n",
      "0 новых дат загружено в DimDate.\n"
     ]
    }
   ],
   "source": [
    "# 7. Трансформация и загрузка в DimDate\n",
    "print(\"Загрузка в DimDate...\")\n",
    "min_date_obj = df_mock_data.agg(min(\"sale_date\")).collect()[0][0]\n",
    "max_date_obj = df_mock_data.agg(max(\"sale_date\")).collect()[0][0]\n",
    "\n",
    "min_date = min_date_obj\n",
    "max_date = max_date_obj\n",
    "\n",
    "print(f\"Минимальная дата (объект): {min_date}\")\n",
    "print(f\"Максимальная дата (объект): {max_date}\")\n",
    "\n",
    "date_range = []\n",
    "current_date = min_date\n",
    "while current_date <= max_date:\n",
    "    date_range.append({\n",
    "        \"full_date\": current_date,\n",
    "        \"year\": current_date.year,\n",
    "        \"month\": current_date.month,\n",
    "        \"day\": current_date.day,\n",
    "        \"day_of_week\": current_date.isoweekday(),\n",
    "        \"day_name\": current_date.strftime(\"%A\"),\n",
    "        \"month_name\": current_date.strftime(\"%B\"),\n",
    "        \"quarter\": (current_date.month - 1) // 3 + 1,\n",
    "        \"week_of_year\": current_date.isocalendar()[1],\n",
    "        \"is_weekend\": current_date.weekday() >= 5\n",
    "    })\n",
    "    current_date += timedelta(days=1)\n",
    "\n",
    "df_date_dim = spark.createDataFrame(date_range) \\\n",
    "    .withColumn(\"date_sk\", expr(\"CAST(regexp_replace(CAST(full_date AS STRING), '-', '') AS INT)\"))\n",
    "\n",
    "# Загружаем только новые даты\n",
    "existing_dates_df = spark.read.jdbc(url=pg_url, table=\"DimDate\", properties=pg_properties)\n",
    "df_date_to_insert = df_date_dim.join(existing_dates_df, \"date_sk\", \"left_anti\")\n",
    "\n",
    "if df_date_to_insert.count() > 0:\n",
    "    df_date_to_insert.write \\\n",
    "        .jdbc(url=pg_url, table=\"DimDate\", mode=\"append\", properties=pg_properties)\n",
    "    print(f\"{df_date_to_insert.count()} новых дат загружено в DimDate.\")\n",
    "else:\n",
    "    print(\"DimDate уже актуален.\")"
   ]
  },
  {
   "cell_type": "code",
   "execution_count": 8,
   "id": "b49cf72c",
   "metadata": {
    "vscode": {
     "languageId": "plaintext"
    }
   },
   "outputs": [
    {
     "name": "stdout",
     "output_type": "stream",
     "text": [
      "Загрузка в FactSales...\n",
      "FactSales загружены.\n"
     ]
    }
   ],
   "source": [
    "# 8. Трансформация и загрузка в FactSales\n",
    "print(\"Загрузка в FactSales...\")\n",
    "\n",
    "# Чтение Dim-таблиц для получения SK\n",
    "dim_customers_lookup = spark.read.jdbc(url=pg_url, table=\"DimCustomers\", properties=pg_properties) \\\n",
    "    .select(col(\"customer_email\"), col(\"customer_sk\"))\n",
    "\n",
    "dim_sellers_lookup = spark.read.jdbc(url=pg_url, table=\"DimSellers\", properties=pg_properties) \\\n",
    "    .select(col(\"seller_email\"), col(\"seller_sk\"))\n",
    "\n",
    "dim_products_lookup = spark.read.jdbc(url=pg_url, table=\"DimProducts\", properties=pg_properties) \\\n",
    "    .select(col(\"product_name\"), col(\"product_sk\"))\n",
    "\n",
    "dim_stores_lookup = spark.read.jdbc(url=pg_url, table=\"DimStores\", properties=pg_properties) \\\n",
    "    .select(col(\"store_name\"), col(\"store_sk\"))\n",
    "\n",
    "dim_suppliers_lookup = spark.read.jdbc(url=pg_url, table=\"DimSuppliers\", properties=pg_properties) \\\n",
    "    .select(col(\"supplier_name\"), col(\"supplier_sk\"))\n",
    "\n",
    "dim_date_lookup = spark.read.jdbc(url=pg_url, table=\"DimDate\", properties=pg_properties) \\\n",
    "    .withColumn(\"sale_date\", to_date(col(\"full_date\"), \"YYYY-MM-DD\")) \\\n",
    "    .select(col(\"sale_date\"), col(\"date_sk\"))\n",
    "\n",
    "\n",
    "# Объединение с mock_data\n",
    "fact_sales = df_mock_data.alias(\"md\") \\\n",
    "    .join(dim_customers_lookup.alias(\"dc\"), col(\"md.customer_email\") == col(\"dc.customer_email\"), \"inner\") \\\n",
    "    .join(dim_sellers_lookup.alias(\"ds\"), col(\"md.seller_email\") == col(\"ds.seller_email\"), \"inner\") \\\n",
    "    .join(dim_products_lookup.alias(\"dp\"), col(\"md.product_name\") == col(\"dp.product_name\"), \"inner\") \\\n",
    "    .join(dim_stores_lookup.alias(\"dst\"), col(\"md.store_name\") == col(\"dst.store_name\"), \"inner\") \\\n",
    "    .join(dim_suppliers_lookup.alias(\"dsu\"), col(\"md.supplier_name\") == col(\"dsu.supplier_name\"), \"left_outer\") \\\n",
    "    .join(dim_date_lookup.alias(\"dd\"), to_date(col(\"md.sale_date\"), \"YYYY-MM-DD\") == col(\"dd.sale_date\"), \"inner\") \\\n",
    "    .select(\n",
    "        col(\"dc.customer_sk\"),\n",
    "        col(\"ds.seller_sk\"),\n",
    "        col(\"dp.product_sk\"),\n",
    "        col(\"dst.store_sk\"),\n",
    "        col(\"dsu.supplier_sk\"),\n",
    "        col(\"dd.date_sk\"),\n",
    "        col(\"md.sale_quantity\"),\n",
    "        col(\"md.sale_total_price\")\n",
    "    )\n",
    "\n",
    "# Загрузка в FactSales\n",
    "fact_sales.write \\\n",
    "    .jdbc(url=pg_url, table=\"FactSales\", mode=\"append\", properties=pg_properties)\n",
    "\n",
    "print(\"FactSales загружены.\")\n",
    "\n",
    "# Остановка SparkSession\n",
    "spark.stop()"
   ]
  }
 ],
 "metadata": {
  "kernelspec": {
   "display_name": "Python 3 (ipykernel)",
   "language": "python",
   "name": "python3"
  },
  "language_info": {
   "codemirror_mode": {
    "name": "ipython",
    "version": 3
   },
   "file_extension": ".py",
   "mimetype": "text/x-python",
   "name": "python",
   "nbconvert_exporter": "python",
   "pygments_lexer": "ipython3",
   "version": "3.11.6"
  }
 },
 "nbformat": 4,
 "nbformat_minor": 5
}
